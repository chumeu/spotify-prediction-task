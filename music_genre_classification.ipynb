{
 "cells": [
  {
   "cell_type": "code",
   "execution_count": 56,
   "id": "005a2809",
   "metadata": {},
   "outputs": [],
   "source": [
    "import pandas as pd\n",
    "import numpy as np\n",
    "import seaborn as sns\n",
    "import matplotlib.pyplot as plt"
   ]
  },
  {
   "cell_type": "code",
   "execution_count": 47,
   "id": "4d98c9d8",
   "metadata": {},
   "outputs": [],
   "source": [
    "spotify = pd.read_csv('music_genre.csv')"
   ]
  },
  {
   "cell_type": "markdown",
   "id": "467d4d7c",
   "metadata": {},
   "source": [
    "# Data cleaning"
   ]
  },
  {
   "cell_type": "markdown",
   "id": "d471aa7d",
   "metadata": {},
   "source": [
    "Como o instance_id identifica a música de forma única, verificamos se há valores duplicados para essa feature."
   ]
  },
  {
   "cell_type": "code",
   "execution_count": 48,
   "id": "cde397c6",
   "metadata": {},
   "outputs": [
    {
     "data": {
      "text/html": [
       "<div>\n",
       "<style scoped>\n",
       "    .dataframe tbody tr th:only-of-type {\n",
       "        vertical-align: middle;\n",
       "    }\n",
       "\n",
       "    .dataframe tbody tr th {\n",
       "        vertical-align: top;\n",
       "    }\n",
       "\n",
       "    .dataframe thead th {\n",
       "        text-align: right;\n",
       "    }\n",
       "</style>\n",
       "<table border=\"1\" class=\"dataframe\">\n",
       "  <thead>\n",
       "    <tr style=\"text-align: right;\">\n",
       "      <th></th>\n",
       "      <th>instance_id</th>\n",
       "      <th>artist_name</th>\n",
       "      <th>track_name</th>\n",
       "      <th>popularity</th>\n",
       "      <th>acousticness</th>\n",
       "      <th>danceability</th>\n",
       "      <th>duration_ms</th>\n",
       "      <th>energy</th>\n",
       "      <th>instrumentalness</th>\n",
       "      <th>key</th>\n",
       "      <th>liveness</th>\n",
       "      <th>loudness</th>\n",
       "      <th>mode</th>\n",
       "      <th>speechiness</th>\n",
       "      <th>tempo</th>\n",
       "      <th>obtained_date</th>\n",
       "      <th>valence</th>\n",
       "      <th>music_genre</th>\n",
       "    </tr>\n",
       "  </thead>\n",
       "  <tbody>\n",
       "    <tr>\n",
       "      <th>10001</th>\n",
       "      <td>NaN</td>\n",
       "      <td>NaN</td>\n",
       "      <td>NaN</td>\n",
       "      <td>NaN</td>\n",
       "      <td>NaN</td>\n",
       "      <td>NaN</td>\n",
       "      <td>NaN</td>\n",
       "      <td>NaN</td>\n",
       "      <td>NaN</td>\n",
       "      <td>NaN</td>\n",
       "      <td>NaN</td>\n",
       "      <td>NaN</td>\n",
       "      <td>NaN</td>\n",
       "      <td>NaN</td>\n",
       "      <td>NaN</td>\n",
       "      <td>NaN</td>\n",
       "      <td>NaN</td>\n",
       "      <td>NaN</td>\n",
       "    </tr>\n",
       "    <tr>\n",
       "      <th>10002</th>\n",
       "      <td>NaN</td>\n",
       "      <td>NaN</td>\n",
       "      <td>NaN</td>\n",
       "      <td>NaN</td>\n",
       "      <td>NaN</td>\n",
       "      <td>NaN</td>\n",
       "      <td>NaN</td>\n",
       "      <td>NaN</td>\n",
       "      <td>NaN</td>\n",
       "      <td>NaN</td>\n",
       "      <td>NaN</td>\n",
       "      <td>NaN</td>\n",
       "      <td>NaN</td>\n",
       "      <td>NaN</td>\n",
       "      <td>NaN</td>\n",
       "      <td>NaN</td>\n",
       "      <td>NaN</td>\n",
       "      <td>NaN</td>\n",
       "    </tr>\n",
       "    <tr>\n",
       "      <th>10003</th>\n",
       "      <td>NaN</td>\n",
       "      <td>NaN</td>\n",
       "      <td>NaN</td>\n",
       "      <td>NaN</td>\n",
       "      <td>NaN</td>\n",
       "      <td>NaN</td>\n",
       "      <td>NaN</td>\n",
       "      <td>NaN</td>\n",
       "      <td>NaN</td>\n",
       "      <td>NaN</td>\n",
       "      <td>NaN</td>\n",
       "      <td>NaN</td>\n",
       "      <td>NaN</td>\n",
       "      <td>NaN</td>\n",
       "      <td>NaN</td>\n",
       "      <td>NaN</td>\n",
       "      <td>NaN</td>\n",
       "      <td>NaN</td>\n",
       "    </tr>\n",
       "    <tr>\n",
       "      <th>10004</th>\n",
       "      <td>NaN</td>\n",
       "      <td>NaN</td>\n",
       "      <td>NaN</td>\n",
       "      <td>NaN</td>\n",
       "      <td>NaN</td>\n",
       "      <td>NaN</td>\n",
       "      <td>NaN</td>\n",
       "      <td>NaN</td>\n",
       "      <td>NaN</td>\n",
       "      <td>NaN</td>\n",
       "      <td>NaN</td>\n",
       "      <td>NaN</td>\n",
       "      <td>NaN</td>\n",
       "      <td>NaN</td>\n",
       "      <td>NaN</td>\n",
       "      <td>NaN</td>\n",
       "      <td>NaN</td>\n",
       "      <td>NaN</td>\n",
       "    </tr>\n",
       "  </tbody>\n",
       "</table>\n",
       "</div>"
      ],
      "text/plain": [
       "       instance_id artist_name track_name  popularity  acousticness  \\\n",
       "10001          NaN         NaN        NaN         NaN           NaN   \n",
       "10002          NaN         NaN        NaN         NaN           NaN   \n",
       "10003          NaN         NaN        NaN         NaN           NaN   \n",
       "10004          NaN         NaN        NaN         NaN           NaN   \n",
       "\n",
       "       danceability  duration_ms  energy  instrumentalness  key  liveness  \\\n",
       "10001           NaN          NaN     NaN               NaN  NaN       NaN   \n",
       "10002           NaN          NaN     NaN               NaN  NaN       NaN   \n",
       "10003           NaN          NaN     NaN               NaN  NaN       NaN   \n",
       "10004           NaN          NaN     NaN               NaN  NaN       NaN   \n",
       "\n",
       "       loudness mode  speechiness tempo obtained_date  valence music_genre  \n",
       "10001       NaN  NaN          NaN   NaN           NaN      NaN         NaN  \n",
       "10002       NaN  NaN          NaN   NaN           NaN      NaN         NaN  \n",
       "10003       NaN  NaN          NaN   NaN           NaN      NaN         NaN  \n",
       "10004       NaN  NaN          NaN   NaN           NaN      NaN         NaN  "
      ]
     },
     "execution_count": 48,
     "metadata": {},
     "output_type": "execute_result"
    }
   ],
   "source": [
    "spotify[spotify['instance_id'].duplicated()]"
   ]
  },
  {
   "cell_type": "markdown",
   "id": "b9314030",
   "metadata": {},
   "source": [
    "A saída anterior mostra que os valores de instance_id duplicados são, na verdade, nulos. Então fazemos a remoção das linhas onde o instance_id é nulo."
   ]
  },
  {
   "cell_type": "code",
   "execution_count": 49,
   "id": "001a6550",
   "metadata": {},
   "outputs": [],
   "source": [
    "spotify = spotify[~spotify['instance_id'].isna()]"
   ]
  },
  {
   "cell_type": "markdown",
   "id": "25ff48f1",
   "metadata": {},
   "source": [
    "É importante entender quais features podem ajudar na predição da feature de interesse (music_genre). As features instance_id, artist_name e track_name devem ser retiradas, pois é uma informação única para aquela música, ou seja, não é uma informação que podemos generalizar para outras músicas. Além disso, retiramos a feature obtained_date. Não encontramos nenhuma informação dessa feture, mas suspeitamos que refere-se a data que a música foi coletada."
   ]
  },
  {
   "cell_type": "code",
   "execution_count": 50,
   "id": "1b8ba93e",
   "metadata": {},
   "outputs": [],
   "source": [
    "spotify = spotify.drop(['instance_id','artist_name','track_name','obtained_date'], axis = 1)"
   ]
  },
  {
   "cell_type": "markdown",
   "id": "db94f96c",
   "metadata": {},
   "source": [
    "Agora verificamos o tipo das variáveis. Isso é importante, pois devemos garantir que as features numéricas estejam como numéricas as features categóricas como categóricas."
   ]
  },
  {
   "cell_type": "code",
   "execution_count": 51,
   "id": "2faaf9c1",
   "metadata": {},
   "outputs": [
    {
     "data": {
      "text/plain": [
       "popularity          float64\n",
       "acousticness        float64\n",
       "danceability        float64\n",
       "duration_ms         float64\n",
       "energy              float64\n",
       "instrumentalness    float64\n",
       "key                  object\n",
       "liveness            float64\n",
       "loudness            float64\n",
       "mode                 object\n",
       "speechiness         float64\n",
       "tempo                object\n",
       "valence             float64\n",
       "music_genre          object\n",
       "dtype: object"
      ]
     },
     "execution_count": 51,
     "metadata": {},
     "output_type": "execute_result"
    }
   ],
   "source": [
    "spotify.dtypes"
   ]
  },
  {
   "cell_type": "markdown",
   "id": "6d647f93",
   "metadata": {},
   "source": [
    "A feature tempo é numérica. Precisamos entender porque ela veio como tipo object."
   ]
  },
  {
   "cell_type": "code",
   "execution_count": 54,
   "id": "7497f0e2",
   "metadata": {},
   "outputs": [
    {
     "data": {
      "text/plain": [
       "28375    100.0\n",
       "46597    100.0\n",
       "38389    100.0\n",
       "46815    100.0\n",
       "14217    100.0\n",
       "         ...  \n",
       "43350        ?\n",
       "10361        ?\n",
       "42625        ?\n",
       "17409        ?\n",
       "46955        ?\n",
       "Name: tempo, Length: 50000, dtype: object"
      ]
     },
     "execution_count": 54,
     "metadata": {},
     "output_type": "execute_result"
    }
   ],
   "source": [
    "spotify['tempo'].sort_values()"
   ]
  },
  {
   "cell_type": "markdown",
   "id": "1020aff2",
   "metadata": {},
   "source": [
    "Na saída anterior há alguns valores com '?', indicando que não há informação de tempo para a respectiva música. Logo, tratamos '?' como valor faltante."
   ]
  },
  {
   "cell_type": "code",
   "execution_count": 63,
   "id": "cdaac539",
   "metadata": {},
   "outputs": [],
   "source": [
    "spotify['tempo'] = spotify['tempo'].replace('?', np.NaN)"
   ]
  },
  {
   "cell_type": "code",
   "execution_count": 64,
   "id": "e6a39238",
   "metadata": {},
   "outputs": [
    {
     "data": {
      "text/plain": [
       "popularity           float64\n",
       "acousticness         float64\n",
       "danceability         float64\n",
       "duration_ms          float64\n",
       "energy               float64\n",
       "instrumentalness     float64\n",
       "key                 category\n",
       "liveness             float64\n",
       "loudness             float64\n",
       "mode                category\n",
       "speechiness          float64\n",
       "tempo                float64\n",
       "valence              float64\n",
       "music_genre         category\n",
       "dtype: object"
      ]
     },
     "execution_count": 64,
     "metadata": {},
     "output_type": "execute_result"
    }
   ],
   "source": [
    "spotify[['key','mode','music_genre']] = spotify[['key','mode','music_genre']].astype('category')\n",
    "spotify[['tempo']] = spotify[['tempo']].astype('float')\n",
    "\n",
    "spotify.dtypes"
   ]
  },
  {
   "cell_type": "markdown",
   "id": "7ca1a4b4",
   "metadata": {},
   "source": [
    "Tudo certo com o tipo das features! "
   ]
  },
  {
   "cell_type": "markdown",
   "id": "ea2a390e",
   "metadata": {},
   "source": [
    "Nas explicações das features no github, temos os possíveis valores para todas as features. O próximo passo é verificar se há algumas observações com os valores fora do intervalo permitido pelas features."
   ]
  },
  {
   "cell_type": "code",
   "execution_count": 66,
   "id": "158cf076",
   "metadata": {},
   "outputs": [
    {
     "data": {
      "text/html": [
       "<div>\n",
       "<style scoped>\n",
       "    .dataframe tbody tr th:only-of-type {\n",
       "        vertical-align: middle;\n",
       "    }\n",
       "\n",
       "    .dataframe tbody tr th {\n",
       "        vertical-align: top;\n",
       "    }\n",
       "\n",
       "    .dataframe thead th {\n",
       "        text-align: right;\n",
       "    }\n",
       "</style>\n",
       "<table border=\"1\" class=\"dataframe\">\n",
       "  <thead>\n",
       "    <tr style=\"text-align: right;\">\n",
       "      <th></th>\n",
       "      <th>popularity</th>\n",
       "      <th>acousticness</th>\n",
       "      <th>danceability</th>\n",
       "      <th>duration_ms</th>\n",
       "      <th>energy</th>\n",
       "      <th>instrumentalness</th>\n",
       "      <th>liveness</th>\n",
       "      <th>loudness</th>\n",
       "      <th>speechiness</th>\n",
       "      <th>tempo</th>\n",
       "      <th>valence</th>\n",
       "    </tr>\n",
       "  </thead>\n",
       "  <tbody>\n",
       "    <tr>\n",
       "      <th>count</th>\n",
       "      <td>50000.000000</td>\n",
       "      <td>50000.000000</td>\n",
       "      <td>50000.000000</td>\n",
       "      <td>5.000000e+04</td>\n",
       "      <td>50000.000000</td>\n",
       "      <td>50000.000000</td>\n",
       "      <td>50000.000000</td>\n",
       "      <td>50000.000000</td>\n",
       "      <td>50000.000000</td>\n",
       "      <td>45020.000000</td>\n",
       "      <td>50000.000000</td>\n",
       "    </tr>\n",
       "    <tr>\n",
       "      <th>mean</th>\n",
       "      <td>44.220420</td>\n",
       "      <td>0.306383</td>\n",
       "      <td>0.558241</td>\n",
       "      <td>2.212526e+05</td>\n",
       "      <td>0.599755</td>\n",
       "      <td>0.181601</td>\n",
       "      <td>0.193896</td>\n",
       "      <td>-9.133761</td>\n",
       "      <td>0.093586</td>\n",
       "      <td>119.952961</td>\n",
       "      <td>0.456264</td>\n",
       "    </tr>\n",
       "    <tr>\n",
       "      <th>std</th>\n",
       "      <td>15.542008</td>\n",
       "      <td>0.341340</td>\n",
       "      <td>0.178632</td>\n",
       "      <td>1.286720e+05</td>\n",
       "      <td>0.264559</td>\n",
       "      <td>0.325409</td>\n",
       "      <td>0.161637</td>\n",
       "      <td>6.162990</td>\n",
       "      <td>0.101373</td>\n",
       "      <td>30.641701</td>\n",
       "      <td>0.247119</td>\n",
       "    </tr>\n",
       "    <tr>\n",
       "      <th>min</th>\n",
       "      <td>0.000000</td>\n",
       "      <td>0.000000</td>\n",
       "      <td>0.059600</td>\n",
       "      <td>-1.000000e+00</td>\n",
       "      <td>0.000792</td>\n",
       "      <td>0.000000</td>\n",
       "      <td>0.009670</td>\n",
       "      <td>-47.046000</td>\n",
       "      <td>0.022300</td>\n",
       "      <td>34.347000</td>\n",
       "      <td>0.000000</td>\n",
       "    </tr>\n",
       "    <tr>\n",
       "      <th>25%</th>\n",
       "      <td>34.000000</td>\n",
       "      <td>0.020000</td>\n",
       "      <td>0.442000</td>\n",
       "      <td>1.748000e+05</td>\n",
       "      <td>0.433000</td>\n",
       "      <td>0.000000</td>\n",
       "      <td>0.096900</td>\n",
       "      <td>-10.860000</td>\n",
       "      <td>0.036100</td>\n",
       "      <td>94.941500</td>\n",
       "      <td>0.257000</td>\n",
       "    </tr>\n",
       "    <tr>\n",
       "      <th>50%</th>\n",
       "      <td>45.000000</td>\n",
       "      <td>0.144000</td>\n",
       "      <td>0.568000</td>\n",
       "      <td>2.192810e+05</td>\n",
       "      <td>0.643000</td>\n",
       "      <td>0.000158</td>\n",
       "      <td>0.126000</td>\n",
       "      <td>-7.276500</td>\n",
       "      <td>0.048900</td>\n",
       "      <td>119.879000</td>\n",
       "      <td>0.448000</td>\n",
       "    </tr>\n",
       "    <tr>\n",
       "      <th>75%</th>\n",
       "      <td>56.000000</td>\n",
       "      <td>0.552000</td>\n",
       "      <td>0.687000</td>\n",
       "      <td>2.686122e+05</td>\n",
       "      <td>0.815000</td>\n",
       "      <td>0.155000</td>\n",
       "      <td>0.244000</td>\n",
       "      <td>-5.173000</td>\n",
       "      <td>0.098525</td>\n",
       "      <td>140.471250</td>\n",
       "      <td>0.648000</td>\n",
       "    </tr>\n",
       "    <tr>\n",
       "      <th>max</th>\n",
       "      <td>99.000000</td>\n",
       "      <td>0.996000</td>\n",
       "      <td>0.986000</td>\n",
       "      <td>4.830606e+06</td>\n",
       "      <td>0.999000</td>\n",
       "      <td>0.996000</td>\n",
       "      <td>1.000000</td>\n",
       "      <td>3.744000</td>\n",
       "      <td>0.942000</td>\n",
       "      <td>220.276000</td>\n",
       "      <td>0.992000</td>\n",
       "    </tr>\n",
       "  </tbody>\n",
       "</table>\n",
       "</div>"
      ],
      "text/plain": [
       "         popularity  acousticness  danceability   duration_ms        energy  \\\n",
       "count  50000.000000  50000.000000  50000.000000  5.000000e+04  50000.000000   \n",
       "mean      44.220420      0.306383      0.558241  2.212526e+05      0.599755   \n",
       "std       15.542008      0.341340      0.178632  1.286720e+05      0.264559   \n",
       "min        0.000000      0.000000      0.059600 -1.000000e+00      0.000792   \n",
       "25%       34.000000      0.020000      0.442000  1.748000e+05      0.433000   \n",
       "50%       45.000000      0.144000      0.568000  2.192810e+05      0.643000   \n",
       "75%       56.000000      0.552000      0.687000  2.686122e+05      0.815000   \n",
       "max       99.000000      0.996000      0.986000  4.830606e+06      0.999000   \n",
       "\n",
       "       instrumentalness      liveness      loudness   speechiness  \\\n",
       "count      50000.000000  50000.000000  50000.000000  50000.000000   \n",
       "mean           0.181601      0.193896     -9.133761      0.093586   \n",
       "std            0.325409      0.161637      6.162990      0.101373   \n",
       "min            0.000000      0.009670    -47.046000      0.022300   \n",
       "25%            0.000000      0.096900    -10.860000      0.036100   \n",
       "50%            0.000158      0.126000     -7.276500      0.048900   \n",
       "75%            0.155000      0.244000     -5.173000      0.098525   \n",
       "max            0.996000      1.000000      3.744000      0.942000   \n",
       "\n",
       "              tempo       valence  \n",
       "count  45020.000000  50000.000000  \n",
       "mean     119.952961      0.456264  \n",
       "std       30.641701      0.247119  \n",
       "min       34.347000      0.000000  \n",
       "25%       94.941500      0.257000  \n",
       "50%      119.879000      0.448000  \n",
       "75%      140.471250      0.648000  \n",
       "max      220.276000      0.992000  "
      ]
     },
     "execution_count": 66,
     "metadata": {},
     "output_type": "execute_result"
    }
   ],
   "source": [
    "spotify.describe()"
   ]
  },
  {
   "cell_type": "markdown",
   "id": "69cbf4cd",
   "metadata": {},
   "source": [
    "A saída acima mostra algumas estatísticas sumárias para as features numéricas. A única feature que identificamos inconsistência é a duration_ms, pois há valores negativos e isso não faz sentido para uma feature que é, essencialmente, positiva. Para uma análise mais elaborada, mostramos na saída abaixo um resumo dos valores de duration_ms menor ou igual a zero."
   ]
  },
  {
   "cell_type": "code",
   "execution_count": 73,
   "id": "8ae250f1",
   "metadata": {},
   "outputs": [
    {
     "data": {
      "text/plain": [
       "count    4939.0\n",
       "mean       -1.0\n",
       "std         0.0\n",
       "min        -1.0\n",
       "25%        -1.0\n",
       "50%        -1.0\n",
       "75%        -1.0\n",
       "max        -1.0\n",
       "Name: duration_ms, dtype: float64"
      ]
     },
     "execution_count": 73,
     "metadata": {},
     "output_type": "execute_result"
    }
   ],
   "source": [
    "spotify[spotify['duration_ms'] <= 0]['duration_ms'].describe()"
   ]
  },
  {
   "cell_type": "markdown",
   "id": "db71aa24",
   "metadata": {},
   "source": [
    "A saída anterior mostra que os valores de duration_ms que não são positivos recebem o valor -1, pois o mínimo é igual ao máximo. Isso sugere que as músicas que não tiveram a duração_ms armazenada receberam o valor -1. Logo, tratamos -1 como valor faltante."
   ]
  },
  {
   "cell_type": "code",
   "execution_count": 74,
   "id": "0e3bb646",
   "metadata": {},
   "outputs": [],
   "source": [
    "spotify['duration_ms'] = spotify['duration_ms'].replace(-1, np.NaN)"
   ]
  },
  {
   "cell_type": "code",
   "execution_count": 65,
   "id": "17ba0b6b",
   "metadata": {},
   "outputs": [
    {
     "data": {
      "text/html": [
       "<div>\n",
       "<style scoped>\n",
       "    .dataframe tbody tr th:only-of-type {\n",
       "        vertical-align: middle;\n",
       "    }\n",
       "\n",
       "    .dataframe tbody tr th {\n",
       "        vertical-align: top;\n",
       "    }\n",
       "\n",
       "    .dataframe thead th {\n",
       "        text-align: right;\n",
       "    }\n",
       "</style>\n",
       "<table border=\"1\" class=\"dataframe\">\n",
       "  <thead>\n",
       "    <tr style=\"text-align: right;\">\n",
       "      <th></th>\n",
       "      <th>key</th>\n",
       "      <th>mode</th>\n",
       "      <th>music_genre</th>\n",
       "    </tr>\n",
       "  </thead>\n",
       "  <tbody>\n",
       "    <tr>\n",
       "      <th>count</th>\n",
       "      <td>50000</td>\n",
       "      <td>50000</td>\n",
       "      <td>50000</td>\n",
       "    </tr>\n",
       "    <tr>\n",
       "      <th>unique</th>\n",
       "      <td>12</td>\n",
       "      <td>2</td>\n",
       "      <td>10</td>\n",
       "    </tr>\n",
       "    <tr>\n",
       "      <th>top</th>\n",
       "      <td>G</td>\n",
       "      <td>Major</td>\n",
       "      <td>Alternative</td>\n",
       "    </tr>\n",
       "    <tr>\n",
       "      <th>freq</th>\n",
       "      <td>5727</td>\n",
       "      <td>32099</td>\n",
       "      <td>5000</td>\n",
       "    </tr>\n",
       "  </tbody>\n",
       "</table>\n",
       "</div>"
      ],
      "text/plain": [
       "          key   mode  music_genre\n",
       "count   50000  50000        50000\n",
       "unique     12      2           10\n",
       "top         G  Major  Alternative\n",
       "freq     5727  32099         5000"
      ]
     },
     "execution_count": 65,
     "metadata": {},
     "output_type": "execute_result"
    }
   ],
   "source": [
    "spotify.describe(include = 'category')"
   ]
  },
  {
   "cell_type": "markdown",
   "id": "a54b7b49",
   "metadata": {},
   "source": [
    "A saída acima mostra algumas estatísticas sumárias para as features categóricas. A partir dela não identificamos nenhuma inconsistência com as features numéricas."
   ]
  },
  {
   "cell_type": "markdown",
   "id": "b21fc9c0",
   "metadata": {},
   "source": [
    "Agora precisamos identificar quais features tem valores faltantes."
   ]
  },
  {
   "cell_type": "code",
   "execution_count": 78,
   "id": "7d573995",
   "metadata": {},
   "outputs": [
    {
     "data": {
      "text/plain": [
       "popularity          False\n",
       "acousticness        False\n",
       "danceability        False\n",
       "duration_ms          True\n",
       "energy              False\n",
       "instrumentalness    False\n",
       "key                 False\n",
       "liveness            False\n",
       "loudness            False\n",
       "mode                False\n",
       "speechiness         False\n",
       "tempo                True\n",
       "valence             False\n",
       "music_genre         False\n",
       "dtype: bool"
      ]
     },
     "execution_count": 78,
     "metadata": {},
     "output_type": "execute_result"
    }
   ],
   "source": [
    "spotify.isna().any()"
   ]
  },
  {
   "cell_type": "code",
   "execution_count": 86,
   "id": "4f12a345",
   "metadata": {},
   "outputs": [
    {
     "name": "stdout",
     "output_type": "stream",
     "text": [
      "<class 'pandas.core.frame.DataFrame'>\n",
      "Int64Index: 50000 entries, 0 to 50004\n",
      "Data columns (total 14 columns):\n",
      " #   Column            Non-Null Count  Dtype   \n",
      "---  ------            --------------  -----   \n",
      " 0   popularity        50000 non-null  float64 \n",
      " 1   acousticness      50000 non-null  float64 \n",
      " 2   danceability      50000 non-null  float64 \n",
      " 3   duration_ms       45061 non-null  float64 \n",
      " 4   energy            50000 non-null  float64 \n",
      " 5   instrumentalness  50000 non-null  float64 \n",
      " 6   key               50000 non-null  category\n",
      " 7   liveness          50000 non-null  float64 \n",
      " 8   loudness          50000 non-null  float64 \n",
      " 9   mode              50000 non-null  category\n",
      " 10  speechiness       50000 non-null  float64 \n",
      " 11  tempo             45020 non-null  float64 \n",
      " 12  valence           50000 non-null  float64 \n",
      " 13  music_genre       50000 non-null  category\n",
      "dtypes: category(3), float64(11)\n",
      "memory usage: 4.7 MB\n"
     ]
    }
   ],
   "source": [
    "spotify.info()"
   ]
  },
  {
   "cell_type": "markdown",
   "id": "cdeddeab",
   "metadata": {},
   "source": [
    "As features com valores faltantes são: duration_ms e tempo. Como, aproximadamente, 10% são valores faltantes para as duas features, inputamos os valores faltantes com a média."
   ]
  },
  {
   "cell_type": "code",
   "execution_count": 92,
   "id": "697a92a8",
   "metadata": {},
   "outputs": [],
   "source": [
    "spotify = spotify.fillna(spotify.mean()[['duration_ms','tempo']])"
   ]
  },
  {
   "cell_type": "markdown",
   "id": "8e355e0b",
   "metadata": {},
   "source": [
    "Com as manipulações que fizemos até aqui, podemos partir para a análise exploratória."
   ]
  },
  {
   "cell_type": "markdown",
   "id": "db852bca",
   "metadata": {},
   "source": [
    "# Análise exploratória"
   ]
  },
  {
   "cell_type": "markdown",
   "id": "a2d5382e",
   "metadata": {},
   "source": [
    "Antes de começar a análise vamos definir algumas nomenclaturas para facilitar o entendimento: a feature que queremos prever, ou classificar, chamamos de **variável resposta**, ou seja, music_genre é a variável resposta; as outras features chamamos de **preditoras**, pois são usadas para predizer a variável resposta."
   ]
  },
  {
   "cell_type": "markdown",
   "id": "d3516a00",
   "metadata": {},
   "source": [
    "### Análise das preditoras categóricas versus variável resposta"
   ]
  },
  {
   "cell_type": "code",
   "execution_count": null,
   "id": "af626b28",
   "metadata": {},
   "outputs": [],
   "source": []
  },
  {
   "cell_type": "markdown",
   "id": "2fb4e495",
   "metadata": {},
   "source": [
    "### Análise das preditoras numéricas versus variável resposta"
   ]
  },
  {
   "cell_type": "code",
   "execution_count": null,
   "id": "e674a320",
   "metadata": {},
   "outputs": [],
   "source": []
  }
 ],
 "metadata": {
  "kernelspec": {
   "display_name": "Python 3",
   "language": "python",
   "name": "python3"
  },
  "language_info": {
   "codemirror_mode": {
    "name": "ipython",
    "version": 3
   },
   "file_extension": ".py",
   "mimetype": "text/x-python",
   "name": "python",
   "nbconvert_exporter": "python",
   "pygments_lexer": "ipython3",
   "version": "3.8.8"
  }
 },
 "nbformat": 4,
 "nbformat_minor": 5
}
